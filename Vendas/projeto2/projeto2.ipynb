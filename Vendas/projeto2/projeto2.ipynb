{
 "cells": [
  {
   "cell_type": "code",
   "execution_count": 1,
   "metadata": {},
   "outputs": [],
   "source": [
    "import os"
   ]
  },
  {
   "cell_type": "code",
   "execution_count": 3,
   "metadata": {},
   "outputs": [
    {
     "data": {
      "text/plain": [
       "['Devolucoes+-+Belo+Horizonte.csv',\n",
       " 'Devolucoes+-+Curitiba.csv',\n",
       " 'Devolucoes+-+Fortaleza (1).csv',\n",
       " 'Devolucoes+-+Fortaleza.csv',\n",
       " 'Devolucoes+-+Goiás.csv',\n",
       " 'Devolucoes+-+Porto+Alegre.csv',\n",
       " 'Devolucoes+-+Recife.csv',\n",
       " 'Devolucoes+-+Rio+de+Janeiro.csv',\n",
       " 'Devolucoes+-+Salvador.csv',\n",
       " 'Devolucoes+-+São+Paulo.csv',\n",
       " 'Vendas+-+Belo+Horizonte.csv',\n",
       " 'Vendas+-+Curitiba.csv',\n",
       " 'Vendas+-+Fortaleza.csv',\n",
       " 'Vendas+-+Goiás.csv',\n",
       " 'Vendas+-+Porto+Alegre.csv',\n",
       " 'Vendas+-+Recife.csv',\n",
       " 'Vendas+-+Rio+de+Janeiro.csv',\n",
       " 'Vendas+-+Salvador.csv',\n",
       " 'Vendas+-+São+Paulo.csv']"
      ]
     },
     "metadata": {},
     "output_type": "display_data"
    }
   ],
   "source": [
    "lista_planilhas  = os.listdir(r'C:\\Users\\Guilherme\\OneDrive\\Área de Trabalho\\Pytho-Data-Science-Udemy\\Vendas\\projeto2\\arquivos-do-projeto')\n",
    "display(lista_planilhas)"
   ]
  }
 ],
 "metadata": {
  "kernelspec": {
   "display_name": "Python 3",
   "language": "python",
   "name": "python3"
  },
  "language_info": {
   "codemirror_mode": {
    "name": "ipython",
    "version": 3
   },
   "file_extension": ".py",
   "mimetype": "text/x-python",
   "name": "python",
   "nbconvert_exporter": "python",
   "pygments_lexer": "ipython3",
   "version": "3.12.0"
  }
 },
 "nbformat": 4,
 "nbformat_minor": 2
}
