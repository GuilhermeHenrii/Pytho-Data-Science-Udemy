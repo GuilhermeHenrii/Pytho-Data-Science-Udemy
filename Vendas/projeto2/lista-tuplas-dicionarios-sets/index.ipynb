{
 "cells": [
  {
   "cell_type": "code",
   "execution_count": null,
   "metadata": {},
   "outputs": [],
   "source": [
    "# Listas -> Coleções ordenadas e mutáveis de elementos. Os elementos podem ser de qualquer tipo, incluindo outras listas\n",
    "\n",
    "listta = [10, 'a', 'b', 20 [30, 40, 50]]"
   ]
  }
 ],
 "metadata": {
  "language_info": {
   "name": "python"
  }
 },
 "nbformat": 4,
 "nbformat_minor": 2
}
