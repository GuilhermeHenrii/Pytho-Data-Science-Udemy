{
 "cells": [
  {
   "cell_type": "code",
   "execution_count": 77,
   "metadata": {},
   "outputs": [],
   "source": [
    "# PASSO 0 - Entender o desafio que vou resolver"
   ]
  },
  {
   "cell_type": "code",
   "execution_count": 78,
   "metadata": {},
   "outputs": [
    {
     "data": {
      "text/html": [
       "<div>\n",
       "<style scoped>\n",
       "    .dataframe tbody tr th:only-of-type {\n",
       "        vertical-align: middle;\n",
       "    }\n",
       "\n",
       "    .dataframe tbody tr th {\n",
       "        vertical-align: top;\n",
       "    }\n",
       "\n",
       "    .dataframe thead th {\n",
       "        text-align: right;\n",
       "    }\n",
       "</style>\n",
       "<table border=\"1\" class=\"dataframe\">\n",
       "  <thead>\n",
       "    <tr style=\"text-align: right;\">\n",
       "      <th></th>\n",
       "      <th>Cód.</th>\n",
       "      <th>Data</th>\n",
       "      <th>Loja</th>\n",
       "      <th>Produto</th>\n",
       "      <th>Quantidade</th>\n",
       "      <th>Valor Unitário</th>\n",
       "    </tr>\n",
       "  </thead>\n",
       "  <tbody>\n",
       "    <tr>\n",
       "      <th>0</th>\n",
       "      <td>1</td>\n",
       "      <td>5/18/2022</td>\n",
       "      <td>Maranhão</td>\n",
       "      <td>Caixa de som</td>\n",
       "      <td>4</td>\n",
       "      <td>79</td>\n",
       "    </tr>\n",
       "    <tr>\n",
       "      <th>1</th>\n",
       "      <td>2</td>\n",
       "      <td>7/24/2022</td>\n",
       "      <td>Santa Catarina</td>\n",
       "      <td>Notebook</td>\n",
       "      <td>9</td>\n",
       "      <td>3789</td>\n",
       "    </tr>\n",
       "    <tr>\n",
       "      <th>2</th>\n",
       "      <td>3</td>\n",
       "      <td>12/20/2022</td>\n",
       "      <td>Rio de Janeiro</td>\n",
       "      <td>Notebook</td>\n",
       "      <td>3</td>\n",
       "      <td>3789</td>\n",
       "    </tr>\n",
       "    <tr>\n",
       "      <th>3</th>\n",
       "      <td>4</td>\n",
       "      <td>1/22/2022</td>\n",
       "      <td>Espírito Santo</td>\n",
       "      <td>Nobreak</td>\n",
       "      <td>9</td>\n",
       "      <td>1279</td>\n",
       "    </tr>\n",
       "    <tr>\n",
       "      <th>4</th>\n",
       "      <td>5</td>\n",
       "      <td>9/11/2022</td>\n",
       "      <td>Tocantins</td>\n",
       "      <td>Impressora</td>\n",
       "      <td>9</td>\n",
       "      <td>699</td>\n",
       "    </tr>\n",
       "    <tr>\n",
       "      <th>...</th>\n",
       "      <td>...</td>\n",
       "      <td>...</td>\n",
       "      <td>...</td>\n",
       "      <td>...</td>\n",
       "      <td>...</td>\n",
       "      <td>...</td>\n",
       "    </tr>\n",
       "    <tr>\n",
       "      <th>14995</th>\n",
       "      <td>14996</td>\n",
       "      <td>8/18/2022</td>\n",
       "      <td>São Paulo</td>\n",
       "      <td>Webcam</td>\n",
       "      <td>4</td>\n",
       "      <td>150</td>\n",
       "    </tr>\n",
       "    <tr>\n",
       "      <th>14996</th>\n",
       "      <td>14997</td>\n",
       "      <td>1/6/2022</td>\n",
       "      <td>São Paulo</td>\n",
       "      <td>Impressora</td>\n",
       "      <td>9</td>\n",
       "      <td>699</td>\n",
       "    </tr>\n",
       "    <tr>\n",
       "      <th>14997</th>\n",
       "      <td>14998</td>\n",
       "      <td>11/13/2022</td>\n",
       "      <td>São Paulo</td>\n",
       "      <td>Notebook</td>\n",
       "      <td>9</td>\n",
       "      <td>3789</td>\n",
       "    </tr>\n",
       "    <tr>\n",
       "      <th>14998</th>\n",
       "      <td>14999</td>\n",
       "      <td>6/29/2022</td>\n",
       "      <td>São Paulo</td>\n",
       "      <td>Caixa de som</td>\n",
       "      <td>6</td>\n",
       "      <td>79</td>\n",
       "    </tr>\n",
       "    <tr>\n",
       "      <th>14999</th>\n",
       "      <td>15000</td>\n",
       "      <td>9/5/2022</td>\n",
       "      <td>Minas Gerais</td>\n",
       "      <td>Tablet</td>\n",
       "      <td>3</td>\n",
       "      <td>1349</td>\n",
       "    </tr>\n",
       "  </tbody>\n",
       "</table>\n",
       "<p>15000 rows × 6 columns</p>\n",
       "</div>"
      ],
      "text/plain": [
       "        Cód.        Data            Loja       Produto  Quantidade  \\\n",
       "0          1   5/18/2022        Maranhão  Caixa de som           4   \n",
       "1          2   7/24/2022  Santa Catarina      Notebook           9   \n",
       "2          3  12/20/2022  Rio de Janeiro      Notebook           3   \n",
       "3          4   1/22/2022  Espírito Santo       Nobreak           9   \n",
       "4          5   9/11/2022       Tocantins    Impressora           9   \n",
       "...      ...         ...             ...           ...         ...   \n",
       "14995  14996   8/18/2022       São Paulo        Webcam           4   \n",
       "14996  14997    1/6/2022       São Paulo    Impressora           9   \n",
       "14997  14998  11/13/2022       São Paulo      Notebook           9   \n",
       "14998  14999   6/29/2022       São Paulo  Caixa de som           6   \n",
       "14999  15000    9/5/2022    Minas Gerais        Tablet           3   \n",
       "\n",
       "       Valor Unitário  \n",
       "0                  79  \n",
       "1                3789  \n",
       "2                3789  \n",
       "3                1279  \n",
       "4                 699  \n",
       "...               ...  \n",
       "14995             150  \n",
       "14996             699  \n",
       "14997            3789  \n",
       "14998              79  \n",
       "14999            1349  \n",
       "\n",
       "[15000 rows x 6 columns]"
      ]
     },
     "metadata": {},
     "output_type": "display_data"
    }
   ],
   "source": [
    "# PASSO 1 - Importar a base de dados (Pasta Vendas)\n",
    "import pandas as pd #importando a biblioteca pandas\n",
    "tabela = pd.read_excel('Vendas+-+Base+de+Dados.xlsx') #lendo o arquivo com pandas\n",
    "display(tabela) # recomendado\n",
    "# print(tabela) # não recomendado para vizualizar as tabelas"
   ]
  },
  {
   "cell_type": "code",
   "execution_count": 79,
   "metadata": {},
   "outputs": [
    {
     "data": {
      "text/html": [
       "<div>\n",
       "<style scoped>\n",
       "    .dataframe tbody tr th:only-of-type {\n",
       "        vertical-align: middle;\n",
       "    }\n",
       "\n",
       "    .dataframe tbody tr th {\n",
       "        vertical-align: top;\n",
       "    }\n",
       "\n",
       "    .dataframe thead th {\n",
       "        text-align: right;\n",
       "    }\n",
       "</style>\n",
       "<table border=\"1\" class=\"dataframe\">\n",
       "  <thead>\n",
       "    <tr style=\"text-align: right;\">\n",
       "      <th></th>\n",
       "      <th>Quantidade</th>\n",
       "    </tr>\n",
       "    <tr>\n",
       "      <th>Produto</th>\n",
       "      <th></th>\n",
       "    </tr>\n",
       "  </thead>\n",
       "  <tbody>\n",
       "    <tr>\n",
       "      <th>Impressora</th>\n",
       "      <td>13285</td>\n",
       "    </tr>\n",
       "    <tr>\n",
       "      <th>Notebook</th>\n",
       "      <td>12930</td>\n",
       "    </tr>\n",
       "    <tr>\n",
       "      <th>Monitor</th>\n",
       "      <td>9923</td>\n",
       "    </tr>\n",
       "    <tr>\n",
       "      <th>Nobreak</th>\n",
       "      <td>6778</td>\n",
       "    </tr>\n",
       "    <tr>\n",
       "      <th>Tablet</th>\n",
       "      <td>6684</td>\n",
       "    </tr>\n",
       "    <tr>\n",
       "      <th>Teclado</th>\n",
       "      <td>6631</td>\n",
       "    </tr>\n",
       "    <tr>\n",
       "      <th>Webcam</th>\n",
       "      <td>6562</td>\n",
       "    </tr>\n",
       "    <tr>\n",
       "      <th>Caixa de som</th>\n",
       "      <td>6535</td>\n",
       "    </tr>\n",
       "    <tr>\n",
       "      <th>PC</th>\n",
       "      <td>6518</td>\n",
       "    </tr>\n",
       "    <tr>\n",
       "      <th>Mouse</th>\n",
       "      <td>6481</td>\n",
       "    </tr>\n",
       "  </tbody>\n",
       "</table>\n",
       "</div>"
      ],
      "text/plain": [
       "              Quantidade\n",
       "Produto                 \n",
       "Impressora         13285\n",
       "Notebook           12930\n",
       "Monitor             9923\n",
       "Nobreak             6778\n",
       "Tablet              6684\n",
       "Teclado             6631\n",
       "Webcam              6562\n",
       "Caixa de som        6535\n",
       "PC                  6518\n",
       "Mouse               6481"
      ]
     },
     "metadata": {},
     "output_type": "display_data"
    }
   ],
   "source": [
    "# PASSO 2 - Calcular o produto mais vendido (quantidade)\n",
    "\n",
    "# .sum() irá somar os valores numéricos da tabela e talvez irá tentar concatenar alguma string\n",
    "tb_qtd_produto = tabela.groupby('Produto').sum()\n",
    "# Fazendo um filtro na tabela para retornar apenas a coluna 'Quantidade'\n",
    "# Para aplicar um filtro, deve-se usar DOIS COLCHETES\n",
    "tb_qtd_produto = tb_qtd_produto[['Quantidade']]\n",
    "# .sort_values() define a organização dos valores\n",
    "# nesse caso é pela coluna 'Quantidade', de forma decrescente (ascending=False)\n",
    "tb_qtd_produto = tb_qtd_produto.sort_values(by='Quantidade', ascending=False)\n",
    "display(tb_qtd_produto)"
   ]
  },
  {
   "cell_type": "code",
   "execution_count": 80,
   "metadata": {},
   "outputs": [
    {
     "data": {
      "text/html": [
       "<div>\n",
       "<style scoped>\n",
       "    .dataframe tbody tr th:only-of-type {\n",
       "        vertical-align: middle;\n",
       "    }\n",
       "\n",
       "    .dataframe tbody tr th {\n",
       "        vertical-align: top;\n",
       "    }\n",
       "\n",
       "    .dataframe thead th {\n",
       "        text-align: right;\n",
       "    }\n",
       "</style>\n",
       "<table border=\"1\" class=\"dataframe\">\n",
       "  <thead>\n",
       "    <tr style=\"text-align: right;\">\n",
       "      <th></th>\n",
       "      <th>Faturamento</th>\n",
       "    </tr>\n",
       "    <tr>\n",
       "      <th>Produto</th>\n",
       "      <th></th>\n",
       "    </tr>\n",
       "  </thead>\n",
       "  <tbody>\n",
       "    <tr>\n",
       "      <th>Notebook</th>\n",
       "      <td>48991770</td>\n",
       "    </tr>\n",
       "    <tr>\n",
       "      <th>PC</th>\n",
       "      <td>38456200</td>\n",
       "    </tr>\n",
       "    <tr>\n",
       "      <th>Monitor</th>\n",
       "      <td>11907600</td>\n",
       "    </tr>\n",
       "    <tr>\n",
       "      <th>Impressora</th>\n",
       "      <td>9286215</td>\n",
       "    </tr>\n",
       "    <tr>\n",
       "      <th>Tablet</th>\n",
       "      <td>9016716</td>\n",
       "    </tr>\n",
       "    <tr>\n",
       "      <th>Nobreak</th>\n",
       "      <td>8669062</td>\n",
       "    </tr>\n",
       "    <tr>\n",
       "      <th>Teclado</th>\n",
       "      <td>1193580</td>\n",
       "    </tr>\n",
       "    <tr>\n",
       "      <th>Webcam</th>\n",
       "      <td>984300</td>\n",
       "    </tr>\n",
       "    <tr>\n",
       "      <th>Mouse</th>\n",
       "      <td>725872</td>\n",
       "    </tr>\n",
       "    <tr>\n",
       "      <th>Caixa de som</th>\n",
       "      <td>516265</td>\n",
       "    </tr>\n",
       "  </tbody>\n",
       "</table>\n",
       "</div>"
      ],
      "text/plain": [
       "              Faturamento\n",
       "Produto                  \n",
       "Notebook         48991770\n",
       "PC               38456200\n",
       "Monitor          11907600\n",
       "Impressora        9286215\n",
       "Tablet            9016716\n",
       "Nobreak           8669062\n",
       "Teclado           1193580\n",
       "Webcam             984300\n",
       "Mouse              725872\n",
       "Caixa de som       516265"
      ]
     },
     "metadata": {},
     "output_type": "display_data"
    }
   ],
   "source": [
    "# PASSO 3 - Calcular o produto mais vendido (faturamento)\n",
    "\n",
    "tabela['Faturamento'] = tabela['Quantidade'] * tabela['Valor Unitário']\n",
    "tabela_faturamento_produto = tabela.groupby('Produto').sum()\n",
    "# Filtrando apenas a coluna Faturamento (DOIS COLCHETES)\n",
    "tabela_faturamento_produto = tabela_faturamento_produto[['Faturamento']].sort_values(by='Faturamento', ascending=False)\n",
    "display(tabela_faturamento_produto)"
   ]
  },
  {
   "cell_type": "code",
   "execution_count": 81,
   "metadata": {},
   "outputs": [
    {
     "data": {
      "text/html": [
       "<div>\n",
       "<style scoped>\n",
       "    .dataframe tbody tr th:only-of-type {\n",
       "        vertical-align: middle;\n",
       "    }\n",
       "\n",
       "    .dataframe tbody tr th {\n",
       "        vertical-align: top;\n",
       "    }\n",
       "\n",
       "    .dataframe thead th {\n",
       "        text-align: right;\n",
       "    }\n",
       "</style>\n",
       "<table border=\"1\" class=\"dataframe\">\n",
       "  <thead>\n",
       "    <tr style=\"text-align: right;\">\n",
       "      <th></th>\n",
       "      <th>Faturamento</th>\n",
       "    </tr>\n",
       "    <tr>\n",
       "      <th>Loja</th>\n",
       "      <th></th>\n",
       "    </tr>\n",
       "  </thead>\n",
       "  <tbody>\n",
       "    <tr>\n",
       "      <th>São Paulo</th>\n",
       "      <td>41018776</td>\n",
       "    </tr>\n",
       "    <tr>\n",
       "      <th>Rio de Janeiro</th>\n",
       "      <td>12274351</td>\n",
       "    </tr>\n",
       "    <tr>\n",
       "      <th>Minas Gerais</th>\n",
       "      <td>11491527</td>\n",
       "    </tr>\n",
       "    <tr>\n",
       "      <th>Paraná</th>\n",
       "      <td>7611645</td>\n",
       "    </tr>\n",
       "    <tr>\n",
       "      <th>Pernambuco</th>\n",
       "      <td>7041123</td>\n",
       "    </tr>\n",
       "    <tr>\n",
       "      <th>Rio Grande do Sul</th>\n",
       "      <td>6618703</td>\n",
       "    </tr>\n",
       "    <tr>\n",
       "      <th>Goiás</th>\n",
       "      <td>6288009</td>\n",
       "    </tr>\n",
       "    <tr>\n",
       "      <th>Bahia</th>\n",
       "      <td>5030257</td>\n",
       "    </tr>\n",
       "    <tr>\n",
       "      <th>Santa Catarina</th>\n",
       "      <td>4971700</td>\n",
       "    </tr>\n",
       "    <tr>\n",
       "      <th>Distrito Federal</th>\n",
       "      <td>4355565</td>\n",
       "    </tr>\n",
       "    <tr>\n",
       "      <th>Espírito Santo</th>\n",
       "      <td>3523731</td>\n",
       "    </tr>\n",
       "    <tr>\n",
       "      <th>Pará</th>\n",
       "      <td>2932941</td>\n",
       "    </tr>\n",
       "    <tr>\n",
       "      <th>Ceará</th>\n",
       "      <td>2925202</td>\n",
       "    </tr>\n",
       "    <tr>\n",
       "      <th>Mato Grosso do Sul</th>\n",
       "      <td>2009149</td>\n",
       "    </tr>\n",
       "    <tr>\n",
       "      <th>Mato Grosso</th>\n",
       "      <td>1708095</td>\n",
       "    </tr>\n",
       "    <tr>\n",
       "      <th>Paraíba</th>\n",
       "      <td>1635059</td>\n",
       "    </tr>\n",
       "    <tr>\n",
       "      <th>Amazonas</th>\n",
       "      <td>1574940</td>\n",
       "    </tr>\n",
       "    <tr>\n",
       "      <th>Rio Grande do Norte</th>\n",
       "      <td>1324966</td>\n",
       "    </tr>\n",
       "    <tr>\n",
       "      <th>Tocantins</th>\n",
       "      <td>1256281</td>\n",
       "    </tr>\n",
       "    <tr>\n",
       "      <th>Piauí</th>\n",
       "      <td>929292</td>\n",
       "    </tr>\n",
       "    <tr>\n",
       "      <th>Maranhão</th>\n",
       "      <td>924990</td>\n",
       "    </tr>\n",
       "    <tr>\n",
       "      <th>Alagoas</th>\n",
       "      <td>872983</td>\n",
       "    </tr>\n",
       "    <tr>\n",
       "      <th>Sergipe</th>\n",
       "      <td>637378</td>\n",
       "    </tr>\n",
       "    <tr>\n",
       "      <th>Rondônia</th>\n",
       "      <td>358665</td>\n",
       "    </tr>\n",
       "    <tr>\n",
       "      <th>Roraima</th>\n",
       "      <td>173428</td>\n",
       "    </tr>\n",
       "    <tr>\n",
       "      <th>Acre</th>\n",
       "      <td>142254</td>\n",
       "    </tr>\n",
       "    <tr>\n",
       "      <th>Amapá</th>\n",
       "      <td>116570</td>\n",
       "    </tr>\n",
       "  </tbody>\n",
       "</table>\n",
       "</div>"
      ],
      "text/plain": [
       "                     Faturamento\n",
       "Loja                            \n",
       "São Paulo               41018776\n",
       "Rio de Janeiro          12274351\n",
       "Minas Gerais            11491527\n",
       "Paraná                   7611645\n",
       "Pernambuco               7041123\n",
       "Rio Grande do Sul        6618703\n",
       "Goiás                    6288009\n",
       "Bahia                    5030257\n",
       "Santa Catarina           4971700\n",
       "Distrito Federal         4355565\n",
       "Espírito Santo           3523731\n",
       "Pará                     2932941\n",
       "Ceará                    2925202\n",
       "Mato Grosso do Sul       2009149\n",
       "Mato Grosso              1708095\n",
       "Paraíba                  1635059\n",
       "Amazonas                 1574940\n",
       "Rio Grande do Norte      1324966\n",
       "Tocantins                1256281\n",
       "Piauí                     929292\n",
       "Maranhão                  924990\n",
       "Alagoas                   872983\n",
       "Sergipe                   637378\n",
       "Rondônia                  358665\n",
       "Roraima                   173428\n",
       "Acre                      142254\n",
       "Amapá                     116570"
      ]
     },
     "metadata": {},
     "output_type": "display_data"
    }
   ],
   "source": [
    "# PASSO 4 - Calcular loja/estado que mais vendeu (em faturamento)\n",
    "\n",
    "tabela_faturamento_loja = tabela.groupby('Loja').sum()\n",
    "tabela_faturamento_loja = tabela_faturamento_loja[['Faturamento']].sort_values(by='Faturamento', ascending=False)\n",
    "display(tabela_faturamento_loja)"
   ]
  },
  {
   "cell_type": "code",
   "execution_count": 82,
   "metadata": {},
   "outputs": [
    {
     "data": {
      "text/html": [
       "<div>\n",
       "<style scoped>\n",
       "    .dataframe tbody tr th:only-of-type {\n",
       "        vertical-align: middle;\n",
       "    }\n",
       "\n",
       "    .dataframe tbody tr th {\n",
       "        vertical-align: top;\n",
       "    }\n",
       "\n",
       "    .dataframe thead th {\n",
       "        text-align: right;\n",
       "    }\n",
       "</style>\n",
       "<table border=\"1\" class=\"dataframe\">\n",
       "  <thead>\n",
       "    <tr style=\"text-align: right;\">\n",
       "      <th></th>\n",
       "      <th>Ticket Médio</th>\n",
       "    </tr>\n",
       "    <tr>\n",
       "      <th>Loja</th>\n",
       "      <th></th>\n",
       "    </tr>\n",
       "  </thead>\n",
       "  <tbody>\n",
       "    <tr>\n",
       "      <th>Acre</th>\n",
       "      <td>2142.769231</td>\n",
       "    </tr>\n",
       "    <tr>\n",
       "      <th>Sergipe</th>\n",
       "      <td>1735.333333</td>\n",
       "    </tr>\n",
       "    <tr>\n",
       "      <th>Tocantins</th>\n",
       "      <td>1734.306452</td>\n",
       "    </tr>\n",
       "    <tr>\n",
       "      <th>Rio Grande do Sul</th>\n",
       "      <td>1690.043909</td>\n",
       "    </tr>\n",
       "    <tr>\n",
       "      <th>Pará</th>\n",
       "      <td>1683.746177</td>\n",
       "    </tr>\n",
       "    <tr>\n",
       "      <th>Santa Catarina</th>\n",
       "      <td>1683.562620</td>\n",
       "    </tr>\n",
       "    <tr>\n",
       "      <th>Pernambuco</th>\n",
       "      <td>1683.036849</td>\n",
       "    </tr>\n",
       "    <tr>\n",
       "      <th>Paraná</th>\n",
       "      <td>1608.725917</td>\n",
       "    </tr>\n",
       "    <tr>\n",
       "      <th>Bahia</th>\n",
       "      <td>1606.045226</td>\n",
       "    </tr>\n",
       "    <tr>\n",
       "      <th>Mato Grosso do Sul</th>\n",
       "      <td>1600.952607</td>\n",
       "    </tr>\n",
       "    <tr>\n",
       "      <th>Rio de Janeiro</th>\n",
       "      <td>1594.396825</td>\n",
       "    </tr>\n",
       "    <tr>\n",
       "      <th>Espírito Santo</th>\n",
       "      <td>1580.024752</td>\n",
       "    </tr>\n",
       "    <tr>\n",
       "      <th>Goiás</th>\n",
       "      <td>1577.605634</td>\n",
       "    </tr>\n",
       "    <tr>\n",
       "      <th>São Paulo</th>\n",
       "      <td>1573.686250</td>\n",
       "    </tr>\n",
       "    <tr>\n",
       "      <th>Mato Grosso</th>\n",
       "      <td>1572.692708</td>\n",
       "    </tr>\n",
       "    <tr>\n",
       "      <th>Piauí</th>\n",
       "      <td>1571.308511</td>\n",
       "    </tr>\n",
       "    <tr>\n",
       "      <th>Maranhão</th>\n",
       "      <td>1561.763158</td>\n",
       "    </tr>\n",
       "    <tr>\n",
       "      <th>Ceará</th>\n",
       "      <td>1540.983871</td>\n",
       "    </tr>\n",
       "    <tr>\n",
       "      <th>Minas Gerais</th>\n",
       "      <td>1526.709104</td>\n",
       "    </tr>\n",
       "    <tr>\n",
       "      <th>Rio Grande do Norte</th>\n",
       "      <td>1515.595238</td>\n",
       "    </tr>\n",
       "    <tr>\n",
       "      <th>Paraíba</th>\n",
       "      <td>1509.593750</td>\n",
       "    </tr>\n",
       "    <tr>\n",
       "      <th>Distrito Federal</th>\n",
       "      <td>1504.994393</td>\n",
       "    </tr>\n",
       "    <tr>\n",
       "      <th>Amazonas</th>\n",
       "      <td>1486.920904</td>\n",
       "    </tr>\n",
       "    <tr>\n",
       "      <th>Alagoas</th>\n",
       "      <td>1430.821138</td>\n",
       "    </tr>\n",
       "    <tr>\n",
       "      <th>Roraima</th>\n",
       "      <td>1369.095238</td>\n",
       "    </tr>\n",
       "    <tr>\n",
       "      <th>Rondônia</th>\n",
       "      <td>1292.000000</td>\n",
       "    </tr>\n",
       "    <tr>\n",
       "      <th>Amapá</th>\n",
       "      <td>966.600000</td>\n",
       "    </tr>\n",
       "  </tbody>\n",
       "</table>\n",
       "</div>"
      ],
      "text/plain": [
       "                     Ticket Médio\n",
       "Loja                             \n",
       "Acre                  2142.769231\n",
       "Sergipe               1735.333333\n",
       "Tocantins             1734.306452\n",
       "Rio Grande do Sul     1690.043909\n",
       "Pará                  1683.746177\n",
       "Santa Catarina        1683.562620\n",
       "Pernambuco            1683.036849\n",
       "Paraná                1608.725917\n",
       "Bahia                 1606.045226\n",
       "Mato Grosso do Sul    1600.952607\n",
       "Rio de Janeiro        1594.396825\n",
       "Espírito Santo        1580.024752\n",
       "Goiás                 1577.605634\n",
       "São Paulo             1573.686250\n",
       "Mato Grosso           1572.692708\n",
       "Piauí                 1571.308511\n",
       "Maranhão              1561.763158\n",
       "Ceará                 1540.983871\n",
       "Minas Gerais          1526.709104\n",
       "Rio Grande do Norte   1515.595238\n",
       "Paraíba               1509.593750\n",
       "Distrito Federal      1504.994393\n",
       "Amazonas              1486.920904\n",
       "Alagoas               1430.821138\n",
       "Roraima               1369.095238\n",
       "Rondônia              1292.000000\n",
       "Amapá                  966.600000"
      ]
     },
     "metadata": {},
     "output_type": "display_data"
    }
   ],
   "source": [
    "# PASSO 5 - Calcular o ticket médio por loja/estado\n",
    "\n",
    "# Criei uma nova coluna com os mesmos valores de Valor Unitário\n",
    "tabela['Ticket Médio'] = tabela['Valor Unitário']\n",
    "# adicionando parametro numeric_only para informar que a operação de média será feita apenas com números\n",
    "# Método mean() faz a média dos valores agrupados\n",
    "tb_ticket_medio = tabela.groupby('Loja').mean(numeric_only=True)\n",
    "tb_ticket_medio = tb_ticket_medio[['Ticket Médio']].sort_values(by='Ticket Médio', ascending=False)\n",
    "display(tb_ticket_medio)"
   ]
  },
  {
   "cell_type": "code",
   "execution_count": 83,
   "metadata": {},
   "outputs": [
    {
     "data": {
      "application/vnd.plotly.v1+json": {
       "config": {
        "plotlyServerURL": "https://plot.ly"
       },
       "data": [
        {
         "alignmentgroup": "True",
         "hovertemplate": "Loja=%{x}<br>Faturamento=%{y}<extra></extra>",
         "legendgroup": "",
         "marker": {
          "color": "#636efa",
          "pattern": {
           "shape": ""
          }
         },
         "name": "",
         "offsetgroup": "",
         "orientation": "v",
         "showlegend": false,
         "textposition": "auto",
         "type": "bar",
         "x": [
          "São Paulo",
          "Rio de Janeiro",
          "Minas Gerais",
          "Paraná",
          "Pernambuco",
          "Rio Grande do Sul",
          "Goiás",
          "Bahia",
          "Santa Catarina",
          "Distrito Federal",
          "Espírito Santo",
          "Pará",
          "Ceará",
          "Mato Grosso do Sul",
          "Mato Grosso",
          "Paraíba",
          "Amazonas",
          "Rio Grande do Norte",
          "Tocantins",
          "Piauí",
          "Maranhão",
          "Alagoas",
          "Sergipe",
          "Rondônia",
          "Roraima",
          "Acre",
          "Amapá"
         ],
         "xaxis": "x",
         "y": [
          41018776,
          12274351,
          11491527,
          7611645,
          7041123,
          6618703,
          6288009,
          5030257,
          4971700,
          4355565,
          3523731,
          2932941,
          2925202,
          2009149,
          1708095,
          1635059,
          1574940,
          1324966,
          1256281,
          929292,
          924990,
          872983,
          637378,
          358665,
          173428,
          142254,
          116570
         ],
         "yaxis": "y"
        }
       ],
       "layout": {
        "barmode": "relative",
        "legend": {
         "tracegroupgap": 0
        },
        "margin": {
         "t": 60
        },
        "template": {
         "data": {
          "bar": [
           {
            "error_x": {
             "color": "#2a3f5f"
            },
            "error_y": {
             "color": "#2a3f5f"
            },
            "marker": {
             "line": {
              "color": "#E5ECF6",
              "width": 0.5
             },
             "pattern": {
              "fillmode": "overlay",
              "size": 10,
              "solidity": 0.2
             }
            },
            "type": "bar"
           }
          ],
          "barpolar": [
           {
            "marker": {
             "line": {
              "color": "#E5ECF6",
              "width": 0.5
             },
             "pattern": {
              "fillmode": "overlay",
              "size": 10,
              "solidity": 0.2
             }
            },
            "type": "barpolar"
           }
          ],
          "carpet": [
           {
            "aaxis": {
             "endlinecolor": "#2a3f5f",
             "gridcolor": "white",
             "linecolor": "white",
             "minorgridcolor": "white",
             "startlinecolor": "#2a3f5f"
            },
            "baxis": {
             "endlinecolor": "#2a3f5f",
             "gridcolor": "white",
             "linecolor": "white",
             "minorgridcolor": "white",
             "startlinecolor": "#2a3f5f"
            },
            "type": "carpet"
           }
          ],
          "choropleth": [
           {
            "colorbar": {
             "outlinewidth": 0,
             "ticks": ""
            },
            "type": "choropleth"
           }
          ],
          "contour": [
           {
            "colorbar": {
             "outlinewidth": 0,
             "ticks": ""
            },
            "colorscale": [
             [
              0,
              "#0d0887"
             ],
             [
              0.1111111111111111,
              "#46039f"
             ],
             [
              0.2222222222222222,
              "#7201a8"
             ],
             [
              0.3333333333333333,
              "#9c179e"
             ],
             [
              0.4444444444444444,
              "#bd3786"
             ],
             [
              0.5555555555555556,
              "#d8576b"
             ],
             [
              0.6666666666666666,
              "#ed7953"
             ],
             [
              0.7777777777777778,
              "#fb9f3a"
             ],
             [
              0.8888888888888888,
              "#fdca26"
             ],
             [
              1,
              "#f0f921"
             ]
            ],
            "type": "contour"
           }
          ],
          "contourcarpet": [
           {
            "colorbar": {
             "outlinewidth": 0,
             "ticks": ""
            },
            "type": "contourcarpet"
           }
          ],
          "heatmap": [
           {
            "colorbar": {
             "outlinewidth": 0,
             "ticks": ""
            },
            "colorscale": [
             [
              0,
              "#0d0887"
             ],
             [
              0.1111111111111111,
              "#46039f"
             ],
             [
              0.2222222222222222,
              "#7201a8"
             ],
             [
              0.3333333333333333,
              "#9c179e"
             ],
             [
              0.4444444444444444,
              "#bd3786"
             ],
             [
              0.5555555555555556,
              "#d8576b"
             ],
             [
              0.6666666666666666,
              "#ed7953"
             ],
             [
              0.7777777777777778,
              "#fb9f3a"
             ],
             [
              0.8888888888888888,
              "#fdca26"
             ],
             [
              1,
              "#f0f921"
             ]
            ],
            "type": "heatmap"
           }
          ],
          "heatmapgl": [
           {
            "colorbar": {
             "outlinewidth": 0,
             "ticks": ""
            },
            "colorscale": [
             [
              0,
              "#0d0887"
             ],
             [
              0.1111111111111111,
              "#46039f"
             ],
             [
              0.2222222222222222,
              "#7201a8"
             ],
             [
              0.3333333333333333,
              "#9c179e"
             ],
             [
              0.4444444444444444,
              "#bd3786"
             ],
             [
              0.5555555555555556,
              "#d8576b"
             ],
             [
              0.6666666666666666,
              "#ed7953"
             ],
             [
              0.7777777777777778,
              "#fb9f3a"
             ],
             [
              0.8888888888888888,
              "#fdca26"
             ],
             [
              1,
              "#f0f921"
             ]
            ],
            "type": "heatmapgl"
           }
          ],
          "histogram": [
           {
            "marker": {
             "pattern": {
              "fillmode": "overlay",
              "size": 10,
              "solidity": 0.2
             }
            },
            "type": "histogram"
           }
          ],
          "histogram2d": [
           {
            "colorbar": {
             "outlinewidth": 0,
             "ticks": ""
            },
            "colorscale": [
             [
              0,
              "#0d0887"
             ],
             [
              0.1111111111111111,
              "#46039f"
             ],
             [
              0.2222222222222222,
              "#7201a8"
             ],
             [
              0.3333333333333333,
              "#9c179e"
             ],
             [
              0.4444444444444444,
              "#bd3786"
             ],
             [
              0.5555555555555556,
              "#d8576b"
             ],
             [
              0.6666666666666666,
              "#ed7953"
             ],
             [
              0.7777777777777778,
              "#fb9f3a"
             ],
             [
              0.8888888888888888,
              "#fdca26"
             ],
             [
              1,
              "#f0f921"
             ]
            ],
            "type": "histogram2d"
           }
          ],
          "histogram2dcontour": [
           {
            "colorbar": {
             "outlinewidth": 0,
             "ticks": ""
            },
            "colorscale": [
             [
              0,
              "#0d0887"
             ],
             [
              0.1111111111111111,
              "#46039f"
             ],
             [
              0.2222222222222222,
              "#7201a8"
             ],
             [
              0.3333333333333333,
              "#9c179e"
             ],
             [
              0.4444444444444444,
              "#bd3786"
             ],
             [
              0.5555555555555556,
              "#d8576b"
             ],
             [
              0.6666666666666666,
              "#ed7953"
             ],
             [
              0.7777777777777778,
              "#fb9f3a"
             ],
             [
              0.8888888888888888,
              "#fdca26"
             ],
             [
              1,
              "#f0f921"
             ]
            ],
            "type": "histogram2dcontour"
           }
          ],
          "mesh3d": [
           {
            "colorbar": {
             "outlinewidth": 0,
             "ticks": ""
            },
            "type": "mesh3d"
           }
          ],
          "parcoords": [
           {
            "line": {
             "colorbar": {
              "outlinewidth": 0,
              "ticks": ""
             }
            },
            "type": "parcoords"
           }
          ],
          "pie": [
           {
            "automargin": true,
            "type": "pie"
           }
          ],
          "scatter": [
           {
            "fillpattern": {
             "fillmode": "overlay",
             "size": 10,
             "solidity": 0.2
            },
            "type": "scatter"
           }
          ],
          "scatter3d": [
           {
            "line": {
             "colorbar": {
              "outlinewidth": 0,
              "ticks": ""
             }
            },
            "marker": {
             "colorbar": {
              "outlinewidth": 0,
              "ticks": ""
             }
            },
            "type": "scatter3d"
           }
          ],
          "scattercarpet": [
           {
            "marker": {
             "colorbar": {
              "outlinewidth": 0,
              "ticks": ""
             }
            },
            "type": "scattercarpet"
           }
          ],
          "scattergeo": [
           {
            "marker": {
             "colorbar": {
              "outlinewidth": 0,
              "ticks": ""
             }
            },
            "type": "scattergeo"
           }
          ],
          "scattergl": [
           {
            "marker": {
             "colorbar": {
              "outlinewidth": 0,
              "ticks": ""
             }
            },
            "type": "scattergl"
           }
          ],
          "scattermapbox": [
           {
            "marker": {
             "colorbar": {
              "outlinewidth": 0,
              "ticks": ""
             }
            },
            "type": "scattermapbox"
           }
          ],
          "scatterpolar": [
           {
            "marker": {
             "colorbar": {
              "outlinewidth": 0,
              "ticks": ""
             }
            },
            "type": "scatterpolar"
           }
          ],
          "scatterpolargl": [
           {
            "marker": {
             "colorbar": {
              "outlinewidth": 0,
              "ticks": ""
             }
            },
            "type": "scatterpolargl"
           }
          ],
          "scatterternary": [
           {
            "marker": {
             "colorbar": {
              "outlinewidth": 0,
              "ticks": ""
             }
            },
            "type": "scatterternary"
           }
          ],
          "surface": [
           {
            "colorbar": {
             "outlinewidth": 0,
             "ticks": ""
            },
            "colorscale": [
             [
              0,
              "#0d0887"
             ],
             [
              0.1111111111111111,
              "#46039f"
             ],
             [
              0.2222222222222222,
              "#7201a8"
             ],
             [
              0.3333333333333333,
              "#9c179e"
             ],
             [
              0.4444444444444444,
              "#bd3786"
             ],
             [
              0.5555555555555556,
              "#d8576b"
             ],
             [
              0.6666666666666666,
              "#ed7953"
             ],
             [
              0.7777777777777778,
              "#fb9f3a"
             ],
             [
              0.8888888888888888,
              "#fdca26"
             ],
             [
              1,
              "#f0f921"
             ]
            ],
            "type": "surface"
           }
          ],
          "table": [
           {
            "cells": {
             "fill": {
              "color": "#EBF0F8"
             },
             "line": {
              "color": "white"
             }
            },
            "header": {
             "fill": {
              "color": "#C8D4E3"
             },
             "line": {
              "color": "white"
             }
            },
            "type": "table"
           }
          ]
         },
         "layout": {
          "annotationdefaults": {
           "arrowcolor": "#2a3f5f",
           "arrowhead": 0,
           "arrowwidth": 1
          },
          "autotypenumbers": "strict",
          "coloraxis": {
           "colorbar": {
            "outlinewidth": 0,
            "ticks": ""
           }
          },
          "colorscale": {
           "diverging": [
            [
             0,
             "#8e0152"
            ],
            [
             0.1,
             "#c51b7d"
            ],
            [
             0.2,
             "#de77ae"
            ],
            [
             0.3,
             "#f1b6da"
            ],
            [
             0.4,
             "#fde0ef"
            ],
            [
             0.5,
             "#f7f7f7"
            ],
            [
             0.6,
             "#e6f5d0"
            ],
            [
             0.7,
             "#b8e186"
            ],
            [
             0.8,
             "#7fbc41"
            ],
            [
             0.9,
             "#4d9221"
            ],
            [
             1,
             "#276419"
            ]
           ],
           "sequential": [
            [
             0,
             "#0d0887"
            ],
            [
             0.1111111111111111,
             "#46039f"
            ],
            [
             0.2222222222222222,
             "#7201a8"
            ],
            [
             0.3333333333333333,
             "#9c179e"
            ],
            [
             0.4444444444444444,
             "#bd3786"
            ],
            [
             0.5555555555555556,
             "#d8576b"
            ],
            [
             0.6666666666666666,
             "#ed7953"
            ],
            [
             0.7777777777777778,
             "#fb9f3a"
            ],
            [
             0.8888888888888888,
             "#fdca26"
            ],
            [
             1,
             "#f0f921"
            ]
           ],
           "sequentialminus": [
            [
             0,
             "#0d0887"
            ],
            [
             0.1111111111111111,
             "#46039f"
            ],
            [
             0.2222222222222222,
             "#7201a8"
            ],
            [
             0.3333333333333333,
             "#9c179e"
            ],
            [
             0.4444444444444444,
             "#bd3786"
            ],
            [
             0.5555555555555556,
             "#d8576b"
            ],
            [
             0.6666666666666666,
             "#ed7953"
            ],
            [
             0.7777777777777778,
             "#fb9f3a"
            ],
            [
             0.8888888888888888,
             "#fdca26"
            ],
            [
             1,
             "#f0f921"
            ]
           ]
          },
          "colorway": [
           "#636efa",
           "#EF553B",
           "#00cc96",
           "#ab63fa",
           "#FFA15A",
           "#19d3f3",
           "#FF6692",
           "#B6E880",
           "#FF97FF",
           "#FECB52"
          ],
          "font": {
           "color": "#2a3f5f"
          },
          "geo": {
           "bgcolor": "white",
           "lakecolor": "white",
           "landcolor": "#E5ECF6",
           "showlakes": true,
           "showland": true,
           "subunitcolor": "white"
          },
          "hoverlabel": {
           "align": "left"
          },
          "hovermode": "closest",
          "mapbox": {
           "style": "light"
          },
          "paper_bgcolor": "white",
          "plot_bgcolor": "#E5ECF6",
          "polar": {
           "angularaxis": {
            "gridcolor": "white",
            "linecolor": "white",
            "ticks": ""
           },
           "bgcolor": "#E5ECF6",
           "radialaxis": {
            "gridcolor": "white",
            "linecolor": "white",
            "ticks": ""
           }
          },
          "scene": {
           "xaxis": {
            "backgroundcolor": "#E5ECF6",
            "gridcolor": "white",
            "gridwidth": 2,
            "linecolor": "white",
            "showbackground": true,
            "ticks": "",
            "zerolinecolor": "white"
           },
           "yaxis": {
            "backgroundcolor": "#E5ECF6",
            "gridcolor": "white",
            "gridwidth": 2,
            "linecolor": "white",
            "showbackground": true,
            "ticks": "",
            "zerolinecolor": "white"
           },
           "zaxis": {
            "backgroundcolor": "#E5ECF6",
            "gridcolor": "white",
            "gridwidth": 2,
            "linecolor": "white",
            "showbackground": true,
            "ticks": "",
            "zerolinecolor": "white"
           }
          },
          "shapedefaults": {
           "line": {
            "color": "#2a3f5f"
           }
          },
          "ternary": {
           "aaxis": {
            "gridcolor": "white",
            "linecolor": "white",
            "ticks": ""
           },
           "baxis": {
            "gridcolor": "white",
            "linecolor": "white",
            "ticks": ""
           },
           "bgcolor": "#E5ECF6",
           "caxis": {
            "gridcolor": "white",
            "linecolor": "white",
            "ticks": ""
           }
          },
          "title": {
           "x": 0.05
          },
          "xaxis": {
           "automargin": true,
           "gridcolor": "white",
           "linecolor": "white",
           "ticks": "",
           "title": {
            "standoff": 15
           },
           "zerolinecolor": "white",
           "zerolinewidth": 2
          },
          "yaxis": {
           "automargin": true,
           "gridcolor": "white",
           "linecolor": "white",
           "ticks": "",
           "title": {
            "standoff": 15
           },
           "zerolinecolor": "white",
           "zerolinewidth": 2
          }
         }
        },
        "xaxis": {
         "anchor": "y",
         "domain": [
          0,
          1
         ],
         "title": {
          "text": "Loja"
         }
        },
        "yaxis": {
         "anchor": "x",
         "domain": [
          0,
          1
         ],
         "title": {
          "text": "Faturamento"
         }
        }
       }
      }
     },
     "metadata": {},
     "output_type": "display_data"
    }
   ],
   "source": [
    "# PASSO 6 - Criar um gráfico/dashboard da loja/estado que mais vendeu (em faturamento)\n",
    "\n",
    "import plotly.express as px\n",
    "\n",
    "grafico = px.bar(tabela_faturamento_loja, y='Faturamento',x=tabela_faturamento_loja.index)\n",
    "grafico.show()"
   ]
  },
  {
   "cell_type": "markdown",
   "metadata": {},
   "source": [
    "FORMATAÇÃO NUMÉRICAS E MONETÁRIAS"
   ]
  },
  {
   "cell_type": "code",
   "execution_count": 84,
   "metadata": {},
   "outputs": [
    {
     "name": "stdout",
     "output_type": "stream",
     "text": [
      "R$ 1.000.000,00\n"
     ]
    },
    {
     "data": {
      "text/html": [
       "<div>\n",
       "<style scoped>\n",
       "    .dataframe tbody tr th:only-of-type {\n",
       "        vertical-align: middle;\n",
       "    }\n",
       "\n",
       "    .dataframe tbody tr th {\n",
       "        vertical-align: top;\n",
       "    }\n",
       "\n",
       "    .dataframe thead th {\n",
       "        text-align: right;\n",
       "    }\n",
       "</style>\n",
       "<table border=\"1\" class=\"dataframe\">\n",
       "  <thead>\n",
       "    <tr style=\"text-align: right;\">\n",
       "      <th></th>\n",
       "      <th>Loja</th>\n",
       "      <th>Faturamento</th>\n",
       "    </tr>\n",
       "  </thead>\n",
       "  <tbody>\n",
       "    <tr>\n",
       "      <th>0</th>\n",
       "      <td>São Paulo</td>\n",
       "      <td>R$ 41.018.776,00</td>\n",
       "    </tr>\n",
       "    <tr>\n",
       "      <th>1</th>\n",
       "      <td>Rio de Janeiro</td>\n",
       "      <td>R$ 12.274.351,00</td>\n",
       "    </tr>\n",
       "    <tr>\n",
       "      <th>2</th>\n",
       "      <td>Minas Gerais</td>\n",
       "      <td>R$ 11.491.527,00</td>\n",
       "    </tr>\n",
       "    <tr>\n",
       "      <th>3</th>\n",
       "      <td>Paraná</td>\n",
       "      <td>R$ 7.611.645,00</td>\n",
       "    </tr>\n",
       "    <tr>\n",
       "      <th>4</th>\n",
       "      <td>Pernambuco</td>\n",
       "      <td>R$ 7.041.123,00</td>\n",
       "    </tr>\n",
       "    <tr>\n",
       "      <th>5</th>\n",
       "      <td>Rio Grande do Sul</td>\n",
       "      <td>R$ 6.618.703,00</td>\n",
       "    </tr>\n",
       "    <tr>\n",
       "      <th>6</th>\n",
       "      <td>Goiás</td>\n",
       "      <td>R$ 6.288.009,00</td>\n",
       "    </tr>\n",
       "    <tr>\n",
       "      <th>7</th>\n",
       "      <td>Bahia</td>\n",
       "      <td>R$ 5.030.257,00</td>\n",
       "    </tr>\n",
       "    <tr>\n",
       "      <th>8</th>\n",
       "      <td>Santa Catarina</td>\n",
       "      <td>R$ 4.971.700,00</td>\n",
       "    </tr>\n",
       "    <tr>\n",
       "      <th>9</th>\n",
       "      <td>Distrito Federal</td>\n",
       "      <td>R$ 4.355.565,00</td>\n",
       "    </tr>\n",
       "    <tr>\n",
       "      <th>10</th>\n",
       "      <td>Espírito Santo</td>\n",
       "      <td>R$ 3.523.731,00</td>\n",
       "    </tr>\n",
       "    <tr>\n",
       "      <th>11</th>\n",
       "      <td>Pará</td>\n",
       "      <td>R$ 2.932.941,00</td>\n",
       "    </tr>\n",
       "    <tr>\n",
       "      <th>12</th>\n",
       "      <td>Ceará</td>\n",
       "      <td>R$ 2.925.202,00</td>\n",
       "    </tr>\n",
       "    <tr>\n",
       "      <th>13</th>\n",
       "      <td>Mato Grosso do Sul</td>\n",
       "      <td>R$ 2.009.149,00</td>\n",
       "    </tr>\n",
       "    <tr>\n",
       "      <th>14</th>\n",
       "      <td>Mato Grosso</td>\n",
       "      <td>R$ 1.708.095,00</td>\n",
       "    </tr>\n",
       "    <tr>\n",
       "      <th>15</th>\n",
       "      <td>Paraíba</td>\n",
       "      <td>R$ 1.635.059,00</td>\n",
       "    </tr>\n",
       "    <tr>\n",
       "      <th>16</th>\n",
       "      <td>Amazonas</td>\n",
       "      <td>R$ 1.574.940,00</td>\n",
       "    </tr>\n",
       "    <tr>\n",
       "      <th>17</th>\n",
       "      <td>Rio Grande do Norte</td>\n",
       "      <td>R$ 1.324.966,00</td>\n",
       "    </tr>\n",
       "    <tr>\n",
       "      <th>18</th>\n",
       "      <td>Tocantins</td>\n",
       "      <td>R$ 1.256.281,00</td>\n",
       "    </tr>\n",
       "    <tr>\n",
       "      <th>19</th>\n",
       "      <td>Piauí</td>\n",
       "      <td>R$ 929.292,00</td>\n",
       "    </tr>\n",
       "    <tr>\n",
       "      <th>20</th>\n",
       "      <td>Maranhão</td>\n",
       "      <td>R$ 924.990,00</td>\n",
       "    </tr>\n",
       "    <tr>\n",
       "      <th>21</th>\n",
       "      <td>Alagoas</td>\n",
       "      <td>R$ 872.983,00</td>\n",
       "    </tr>\n",
       "    <tr>\n",
       "      <th>22</th>\n",
       "      <td>Sergipe</td>\n",
       "      <td>R$ 637.378,00</td>\n",
       "    </tr>\n",
       "    <tr>\n",
       "      <th>23</th>\n",
       "      <td>Rondônia</td>\n",
       "      <td>R$ 358.665,00</td>\n",
       "    </tr>\n",
       "    <tr>\n",
       "      <th>24</th>\n",
       "      <td>Roraima</td>\n",
       "      <td>R$ 173.428,00</td>\n",
       "    </tr>\n",
       "    <tr>\n",
       "      <th>25</th>\n",
       "      <td>Acre</td>\n",
       "      <td>R$ 142.254,00</td>\n",
       "    </tr>\n",
       "    <tr>\n",
       "      <th>26</th>\n",
       "      <td>Amapá</td>\n",
       "      <td>R$ 116.570,00</td>\n",
       "    </tr>\n",
       "  </tbody>\n",
       "</table>\n",
       "</div>"
      ],
      "text/plain": [
       "                   Loja       Faturamento\n",
       "0             São Paulo  R$ 41.018.776,00\n",
       "1        Rio de Janeiro  R$ 12.274.351,00\n",
       "2          Minas Gerais  R$ 11.491.527,00\n",
       "3                Paraná   R$ 7.611.645,00\n",
       "4            Pernambuco   R$ 7.041.123,00\n",
       "5     Rio Grande do Sul   R$ 6.618.703,00\n",
       "6                 Goiás   R$ 6.288.009,00\n",
       "7                 Bahia   R$ 5.030.257,00\n",
       "8        Santa Catarina   R$ 4.971.700,00\n",
       "9      Distrito Federal   R$ 4.355.565,00\n",
       "10       Espírito Santo   R$ 3.523.731,00\n",
       "11                 Pará   R$ 2.932.941,00\n",
       "12                Ceará   R$ 2.925.202,00\n",
       "13   Mato Grosso do Sul   R$ 2.009.149,00\n",
       "14          Mato Grosso   R$ 1.708.095,00\n",
       "15              Paraíba   R$ 1.635.059,00\n",
       "16             Amazonas   R$ 1.574.940,00\n",
       "17  Rio Grande do Norte   R$ 1.324.966,00\n",
       "18            Tocantins   R$ 1.256.281,00\n",
       "19                Piauí     R$ 929.292,00\n",
       "20             Maranhão     R$ 924.990,00\n",
       "21              Alagoas     R$ 872.983,00\n",
       "22              Sergipe     R$ 637.378,00\n",
       "23             Rondônia     R$ 358.665,00\n",
       "24              Roraima     R$ 173.428,00\n",
       "25                 Acre     R$ 142.254,00\n",
       "26                Amapá     R$ 116.570,00"
      ]
     },
     "metadata": {},
     "output_type": "display_data"
    },
    {
     "name": "stdout",
     "output_type": "stream",
     "text": [
      "<table class=\"dataframe\">\n",
      "  <thead>\n",
      "    <tr style=\"text-align: center;\">\n",
      "      <th>Loja</th>\n",
      "      <th>Faturamento</th>\n",
      "    </tr>\n",
      "  </thead>\n",
      "  <tbody style=\"text-align:center; color:#484848; background:#F7F7F7\">\n",
      "    <tr>\n",
      "      <td>São Paulo</td>\n",
      "      <td>R$ 41.018.776,00</td>\n",
      "    </tr>\n",
      "    <tr>\n",
      "      <td>Rio de Janeiro</td>\n",
      "      <td>R$ 12.274.351,00</td>\n",
      "    </tr>\n",
      "    <tr>\n",
      "      <td>Minas Gerais</td>\n",
      "      <td>R$ 11.491.527,00</td>\n",
      "    </tr>\n",
      "    <tr>\n",
      "      <td>Paraná</td>\n",
      "      <td>R$ 7.611.645,00</td>\n",
      "    </tr>\n",
      "    <tr>\n",
      "      <td>Pernambuco</td>\n",
      "      <td>R$ 7.041.123,00</td>\n",
      "    </tr>\n",
      "    <tr>\n",
      "      <td>Rio Grande do Sul</td>\n",
      "      <td>R$ 6.618.703,00</td>\n",
      "    </tr>\n",
      "    <tr>\n",
      "      <td>Goiás</td>\n",
      "      <td>R$ 6.288.009,00</td>\n",
      "    </tr>\n",
      "    <tr>\n",
      "      <td>Bahia</td>\n",
      "      <td>R$ 5.030.257,00</td>\n",
      "    </tr>\n",
      "    <tr>\n",
      "      <td>Santa Catarina</td>\n",
      "      <td>R$ 4.971.700,00</td>\n",
      "    </tr>\n",
      "    <tr>\n",
      "      <td>Distrito Federal</td>\n",
      "      <td>R$ 4.355.565,00</td>\n",
      "    </tr>\n",
      "    <tr>\n",
      "      <td>Espírito Santo</td>\n",
      "      <td>R$ 3.523.731,00</td>\n",
      "    </tr>\n",
      "    <tr>\n",
      "      <td>Pará</td>\n",
      "      <td>R$ 2.932.941,00</td>\n",
      "    </tr>\n",
      "    <tr>\n",
      "      <td>Ceará</td>\n",
      "      <td>R$ 2.925.202,00</td>\n",
      "    </tr>\n",
      "    <tr>\n",
      "      <td>Mato Grosso do Sul</td>\n",
      "      <td>R$ 2.009.149,00</td>\n",
      "    </tr>\n",
      "    <tr>\n",
      "      <td>Mato Grosso</td>\n",
      "      <td>R$ 1.708.095,00</td>\n",
      "    </tr>\n",
      "    <tr>\n",
      "      <td>Paraíba</td>\n",
      "      <td>R$ 1.635.059,00</td>\n",
      "    </tr>\n",
      "    <tr>\n",
      "      <td>Amazonas</td>\n",
      "      <td>R$ 1.574.940,00</td>\n",
      "    </tr>\n",
      "    <tr>\n",
      "      <td>Rio Grande do Norte</td>\n",
      "      <td>R$ 1.324.966,00</td>\n",
      "    </tr>\n",
      "    <tr>\n",
      "      <td>Tocantins</td>\n",
      "      <td>R$ 1.256.281,00</td>\n",
      "    </tr>\n",
      "    <tr>\n",
      "      <td>Piauí</td>\n",
      "      <td>R$ 929.292,00</td>\n",
      "    </tr>\n",
      "    <tr>\n",
      "      <td>Maranhão</td>\n",
      "      <td>R$ 924.990,00</td>\n",
      "    </tr>\n",
      "    <tr>\n",
      "      <td>Alagoas</td>\n",
      "      <td>R$ 872.983,00</td>\n",
      "    </tr>\n",
      "    <tr>\n",
      "      <td>Sergipe</td>\n",
      "      <td>R$ 637.378,00</td>\n",
      "    </tr>\n",
      "    <tr>\n",
      "      <td>Rondônia</td>\n",
      "      <td>R$ 358.665,00</td>\n",
      "    </tr>\n",
      "    <tr>\n",
      "      <td>Roraima</td>\n",
      "      <td>R$ 173.428,00</td>\n",
      "    </tr>\n",
      "    <tr>\n",
      "      <td>Acre</td>\n",
      "      <td>R$ 142.254,00</td>\n",
      "    </tr>\n",
      "    <tr>\n",
      "      <td>Amapá</td>\n",
      "      <td>R$ 116.570,00</td>\n",
      "    </tr>\n",
      "  </tbody>\n",
      "</table>\n"
     ]
    }
   ],
   "source": [
    "# Loja/estado que mais vendeu (em faturamento)\n",
    "\n",
    "# Importando apenas o format_currency do babel.numbers\n",
    "# Biblioteca para formatação monetária\n",
    "from babel.numbers import format_currency\n",
    "valor = 1000000\n",
    "valor_fomatado = format_currency(valor, 'BRL', locale='pt_BR')\n",
    "print(valor_fomatado)\n",
    "\n",
    "# FORMATAÇÃO MONETÁRIA\n",
    "# Usando o .aply() para pegar os itens da coluna, sendo possível usar o lambda\n",
    "# Usando o pd.DataFrame() para reforçar que a tabela com o resultado seja um DataFrame tbm\n",
    "tabela_faturamento_loja_formatada = pd.DataFrame(tabela_faturamento_loja['Faturamento'].apply(lambda x: format_currency(x, 'BRL', locale='pt_BR')))\n",
    "\n",
    "# Usando o reset_index() para tirar a coluna especificada no group by do indice e voltar o indice padrão\n",
    "# Group by (pandas) transforma a coluna especificada como um indice\n",
    "tabela_faturamento_loja_formatada = tabela_faturamento_loja_formatada.reset_index()\n",
    "display(tabela_faturamento_loja_formatada)\n",
    "\n",
    "# Formatando tabela para html\n",
    "# Aplicando estilizações html na tabela\n",
    "# Sempre criar outras variávei para mexer com estilização da célula, pois quando estilizaos esses valores deixam de ser números e viram strings\n",
    "tabela_faturamento_loja_formatada_html = tabela_faturamento_loja_formatada.to_html(index=False, justify='center', border=0).replace('<tbody>', '<tbody style=\"text-align:center; color:#484848; background:#F7F7F7\">')\n",
    "print(tabela_faturamento_loja_formatada_html)"
   ]
  },
  {
   "cell_type": "code",
   "execution_count": 85,
   "metadata": {},
   "outputs": [
    {
     "name": "stdout",
     "output_type": "stream",
     "text": [
      "20.000.000\n"
     ]
    },
    {
     "data": {
      "text/html": [
       "<div>\n",
       "<style scoped>\n",
       "    .dataframe tbody tr th:only-of-type {\n",
       "        vertical-align: middle;\n",
       "    }\n",
       "\n",
       "    .dataframe tbody tr th {\n",
       "        vertical-align: top;\n",
       "    }\n",
       "\n",
       "    .dataframe thead th {\n",
       "        text-align: right;\n",
       "    }\n",
       "</style>\n",
       "<table border=\"1\" class=\"dataframe\">\n",
       "  <thead>\n",
       "    <tr style=\"text-align: right;\">\n",
       "      <th></th>\n",
       "      <th>Produto</th>\n",
       "      <th>Quantidade</th>\n",
       "    </tr>\n",
       "  </thead>\n",
       "  <tbody>\n",
       "    <tr>\n",
       "      <th>0</th>\n",
       "      <td>Impressora</td>\n",
       "      <td>13.285</td>\n",
       "    </tr>\n",
       "    <tr>\n",
       "      <th>1</th>\n",
       "      <td>Notebook</td>\n",
       "      <td>12.930</td>\n",
       "    </tr>\n",
       "    <tr>\n",
       "      <th>2</th>\n",
       "      <td>Monitor</td>\n",
       "      <td>9.923</td>\n",
       "    </tr>\n",
       "    <tr>\n",
       "      <th>3</th>\n",
       "      <td>Nobreak</td>\n",
       "      <td>6.778</td>\n",
       "    </tr>\n",
       "    <tr>\n",
       "      <th>4</th>\n",
       "      <td>Tablet</td>\n",
       "      <td>6.684</td>\n",
       "    </tr>\n",
       "    <tr>\n",
       "      <th>5</th>\n",
       "      <td>Teclado</td>\n",
       "      <td>6.631</td>\n",
       "    </tr>\n",
       "    <tr>\n",
       "      <th>6</th>\n",
       "      <td>Webcam</td>\n",
       "      <td>6.562</td>\n",
       "    </tr>\n",
       "    <tr>\n",
       "      <th>7</th>\n",
       "      <td>Caixa de som</td>\n",
       "      <td>6.535</td>\n",
       "    </tr>\n",
       "    <tr>\n",
       "      <th>8</th>\n",
       "      <td>PC</td>\n",
       "      <td>6.518</td>\n",
       "    </tr>\n",
       "    <tr>\n",
       "      <th>9</th>\n",
       "      <td>Mouse</td>\n",
       "      <td>6.481</td>\n",
       "    </tr>\n",
       "  </tbody>\n",
       "</table>\n",
       "</div>"
      ],
      "text/plain": [
       "        Produto Quantidade\n",
       "0    Impressora     13.285\n",
       "1      Notebook     12.930\n",
       "2       Monitor      9.923\n",
       "3       Nobreak      6.778\n",
       "4        Tablet      6.684\n",
       "5       Teclado      6.631\n",
       "6        Webcam      6.562\n",
       "7  Caixa de som      6.535\n",
       "8            PC      6.518\n",
       "9         Mouse      6.481"
      ]
     },
     "metadata": {},
     "output_type": "display_data"
    },
    {
     "data": {
      "text/plain": [
       "'<table class=\"dataframe\">\\n  <thead>\\n    <tr style=\"text-align: center;\">\\n      <th>Produto</th>\\n      <th>Quantidade</th>\\n    </tr>\\n  </thead>\\n  <tbody style=\"text-align:center; color:#484848; background:#F7F7F7\">\\n    <tr>\\n      <td>Impressora</td>\\n      <td>13.285</td>\\n    </tr>\\n    <tr>\\n      <td>Notebook</td>\\n      <td>12.930</td>\\n    </tr>\\n    <tr>\\n      <td>Monitor</td>\\n      <td>9.923</td>\\n    </tr>\\n    <tr>\\n      <td>Nobreak</td>\\n      <td>6.778</td>\\n    </tr>\\n    <tr>\\n      <td>Tablet</td>\\n      <td>6.684</td>\\n    </tr>\\n    <tr>\\n      <td>Teclado</td>\\n      <td>6.631</td>\\n    </tr>\\n    <tr>\\n      <td>Webcam</td>\\n      <td>6.562</td>\\n    </tr>\\n    <tr>\\n      <td>Caixa de som</td>\\n      <td>6.535</td>\\n    </tr>\\n    <tr>\\n      <td>PC</td>\\n      <td>6.518</td>\\n    </tr>\\n    <tr>\\n      <td>Mouse</td>\\n      <td>6.481</td>\\n    </tr>\\n  </tbody>\\n</table>'"
      ]
     },
     "metadata": {},
     "output_type": "display_data"
    }
   ],
   "source": [
    "# Produtos mais vendidos (em quantidade)\n",
    "\n",
    "qtd = 20000000\n",
    "# Usando o format para especificar o separador de milhar (,)\n",
    "# depois, com o replace, substituo todas as vírgulas por ponto\n",
    "qtd_formatado = \"{:,}\".format(qtd).replace(',', '.')\n",
    "print(qtd_formatado)\n",
    "\n",
    "# FORMATAÇÃO MONERÁRIA\n",
    "# Sempre lembrar de passar para DF, pois o lambda tira a formatação de de DF dp pandas\n",
    "tb_qtd_produto_formatado = pd.DataFrame(tb_qtd_produto['Quantidade'].apply(lambda x: \"{:,}\".format(x).replace(',', '.')))\n",
    "\n",
    "# Usando o reset_index() para tirar a coluna especificada no group by do indice e voltar o indice padrão\n",
    "# Group by (pandas) transforma a coluna especificada como um indice\n",
    "tb_qtd_produto_formatado = tb_qtd_produto_formatado.reset_index()\n",
    "display(tb_qtd_produto_formatado)\n",
    "\n",
    "# Formatação em HTML\n",
    "tb_qtd_produto_formatado_html = tb_qtd_produto_formatado.to_html(index=False, justify='center', border=0).replace('<tbody>', '<tbody style=\"text-align:center; color:#484848; background:#F7F7F7\">')\n",
    "display(tb_qtd_produto_formatado_html)"
   ]
  },
  {
   "cell_type": "code",
   "execution_count": 86,
   "metadata": {},
   "outputs": [
    {
     "data": {
      "text/html": [
       "<div>\n",
       "<style scoped>\n",
       "    .dataframe tbody tr th:only-of-type {\n",
       "        vertical-align: middle;\n",
       "    }\n",
       "\n",
       "    .dataframe tbody tr th {\n",
       "        vertical-align: top;\n",
       "    }\n",
       "\n",
       "    .dataframe thead th {\n",
       "        text-align: right;\n",
       "    }\n",
       "</style>\n",
       "<table border=\"1\" class=\"dataframe\">\n",
       "  <thead>\n",
       "    <tr style=\"text-align: right;\">\n",
       "      <th></th>\n",
       "      <th>Produto</th>\n",
       "      <th>Faturamento</th>\n",
       "    </tr>\n",
       "  </thead>\n",
       "  <tbody>\n",
       "    <tr>\n",
       "      <th>0</th>\n",
       "      <td>Notebook</td>\n",
       "      <td>R$ 48.991.770,00</td>\n",
       "    </tr>\n",
       "    <tr>\n",
       "      <th>1</th>\n",
       "      <td>PC</td>\n",
       "      <td>R$ 38.456.200,00</td>\n",
       "    </tr>\n",
       "    <tr>\n",
       "      <th>2</th>\n",
       "      <td>Monitor</td>\n",
       "      <td>R$ 11.907.600,00</td>\n",
       "    </tr>\n",
       "    <tr>\n",
       "      <th>3</th>\n",
       "      <td>Impressora</td>\n",
       "      <td>R$ 9.286.215,00</td>\n",
       "    </tr>\n",
       "    <tr>\n",
       "      <th>4</th>\n",
       "      <td>Tablet</td>\n",
       "      <td>R$ 9.016.716,00</td>\n",
       "    </tr>\n",
       "    <tr>\n",
       "      <th>5</th>\n",
       "      <td>Nobreak</td>\n",
       "      <td>R$ 8.669.062,00</td>\n",
       "    </tr>\n",
       "    <tr>\n",
       "      <th>6</th>\n",
       "      <td>Teclado</td>\n",
       "      <td>R$ 1.193.580,00</td>\n",
       "    </tr>\n",
       "    <tr>\n",
       "      <th>7</th>\n",
       "      <td>Webcam</td>\n",
       "      <td>R$ 984.300,00</td>\n",
       "    </tr>\n",
       "    <tr>\n",
       "      <th>8</th>\n",
       "      <td>Mouse</td>\n",
       "      <td>R$ 725.872,00</td>\n",
       "    </tr>\n",
       "    <tr>\n",
       "      <th>9</th>\n",
       "      <td>Caixa de som</td>\n",
       "      <td>R$ 516.265,00</td>\n",
       "    </tr>\n",
       "  </tbody>\n",
       "</table>\n",
       "</div>"
      ],
      "text/plain": [
       "        Produto       Faturamento\n",
       "0      Notebook  R$ 48.991.770,00\n",
       "1            PC  R$ 38.456.200,00\n",
       "2       Monitor  R$ 11.907.600,00\n",
       "3    Impressora   R$ 9.286.215,00\n",
       "4        Tablet   R$ 9.016.716,00\n",
       "5       Nobreak   R$ 8.669.062,00\n",
       "6       Teclado   R$ 1.193.580,00\n",
       "7        Webcam     R$ 984.300,00\n",
       "8         Mouse     R$ 725.872,00\n",
       "9  Caixa de som     R$ 516.265,00"
      ]
     },
     "metadata": {},
     "output_type": "display_data"
    },
    {
     "data": {
      "text/plain": [
       "'<table class=\"dataframe\">\\n  <thead>\\n    <tr style=\"text-align: center;\">\\n      <th>Produto</th>\\n      <th>Faturamento</th>\\n    </tr>\\n  </thead>\\n  <tbody style=\"text-align:center; color:#484848; background:#F7F7F7\">\\n    <tr>\\n      <td>Notebook</td>\\n      <td>R$\\xa048.991.770,00</td>\\n    </tr>\\n    <tr>\\n      <td>PC</td>\\n      <td>R$\\xa038.456.200,00</td>\\n    </tr>\\n    <tr>\\n      <td>Monitor</td>\\n      <td>R$\\xa011.907.600,00</td>\\n    </tr>\\n    <tr>\\n      <td>Impressora</td>\\n      <td>R$\\xa09.286.215,00</td>\\n    </tr>\\n    <tr>\\n      <td>Tablet</td>\\n      <td>R$\\xa09.016.716,00</td>\\n    </tr>\\n    <tr>\\n      <td>Nobreak</td>\\n      <td>R$\\xa08.669.062,00</td>\\n    </tr>\\n    <tr>\\n      <td>Teclado</td>\\n      <td>R$\\xa01.193.580,00</td>\\n    </tr>\\n    <tr>\\n      <td>Webcam</td>\\n      <td>R$\\xa0984.300,00</td>\\n    </tr>\\n    <tr>\\n      <td>Mouse</td>\\n      <td>R$\\xa0725.872,00</td>\\n    </tr>\\n    <tr>\\n      <td>Caixa de som</td>\\n      <td>R$\\xa0516.265,00</td>\\n    </tr>\\n  </tbody>\\n</table>'"
      ]
     },
     "metadata": {},
     "output_type": "display_data"
    }
   ],
   "source": [
    "# Produtos mais vendidos (em faturamento)\n",
    "\n",
    "tb_produto_faturamento_formatado = pd.DataFrame(tabela_faturamento_produto['Faturamento'].apply(lambda x: format_currency(x, 'BRL', locale='pt_BR')))\n",
    "\n",
    "# Usando o reset_index() para tirar a coluna especificada no group by do indice e voltar o indice padrão\n",
    "# Group by (pandas) transforma a coluna especificada como um indice\n",
    "tb_produto_faturamento_formatado = tb_produto_faturamento_formatado.reset_index()\n",
    "display(tb_produto_faturamento_formatado)\n",
    "\n",
    "# Formatação em HTML\n",
    "tb_produto_faturamento_formatado_html = tb_produto_faturamento_formatado.to_html(index=False, justify='center', border=0).replace('<tbody>', '<tbody style=\"text-align:center; color:#484848; background:#F7F7F7\">')\n",
    "display(tb_produto_faturamento_formatado_html)"
   ]
  },
  {
   "cell_type": "code",
   "execution_count": 87,
   "metadata": {},
   "outputs": [
    {
     "data": {
      "text/html": [
       "<div>\n",
       "<style scoped>\n",
       "    .dataframe tbody tr th:only-of-type {\n",
       "        vertical-align: middle;\n",
       "    }\n",
       "\n",
       "    .dataframe tbody tr th {\n",
       "        vertical-align: top;\n",
       "    }\n",
       "\n",
       "    .dataframe thead th {\n",
       "        text-align: right;\n",
       "    }\n",
       "</style>\n",
       "<table border=\"1\" class=\"dataframe\">\n",
       "  <thead>\n",
       "    <tr style=\"text-align: right;\">\n",
       "      <th></th>\n",
       "      <th>Loja</th>\n",
       "      <th>Ticket Médio</th>\n",
       "    </tr>\n",
       "  </thead>\n",
       "  <tbody>\n",
       "    <tr>\n",
       "      <th>0</th>\n",
       "      <td>Acre</td>\n",
       "      <td>R$ 2.142,77</td>\n",
       "    </tr>\n",
       "    <tr>\n",
       "      <th>1</th>\n",
       "      <td>Sergipe</td>\n",
       "      <td>R$ 1.735,33</td>\n",
       "    </tr>\n",
       "    <tr>\n",
       "      <th>2</th>\n",
       "      <td>Tocantins</td>\n",
       "      <td>R$ 1.734,31</td>\n",
       "    </tr>\n",
       "    <tr>\n",
       "      <th>3</th>\n",
       "      <td>Rio Grande do Sul</td>\n",
       "      <td>R$ 1.690,04</td>\n",
       "    </tr>\n",
       "    <tr>\n",
       "      <th>4</th>\n",
       "      <td>Pará</td>\n",
       "      <td>R$ 1.683,75</td>\n",
       "    </tr>\n",
       "    <tr>\n",
       "      <th>5</th>\n",
       "      <td>Santa Catarina</td>\n",
       "      <td>R$ 1.683,56</td>\n",
       "    </tr>\n",
       "    <tr>\n",
       "      <th>6</th>\n",
       "      <td>Pernambuco</td>\n",
       "      <td>R$ 1.683,04</td>\n",
       "    </tr>\n",
       "    <tr>\n",
       "      <th>7</th>\n",
       "      <td>Paraná</td>\n",
       "      <td>R$ 1.608,73</td>\n",
       "    </tr>\n",
       "    <tr>\n",
       "      <th>8</th>\n",
       "      <td>Bahia</td>\n",
       "      <td>R$ 1.606,05</td>\n",
       "    </tr>\n",
       "    <tr>\n",
       "      <th>9</th>\n",
       "      <td>Mato Grosso do Sul</td>\n",
       "      <td>R$ 1.600,95</td>\n",
       "    </tr>\n",
       "    <tr>\n",
       "      <th>10</th>\n",
       "      <td>Rio de Janeiro</td>\n",
       "      <td>R$ 1.594,40</td>\n",
       "    </tr>\n",
       "    <tr>\n",
       "      <th>11</th>\n",
       "      <td>Espírito Santo</td>\n",
       "      <td>R$ 1.580,02</td>\n",
       "    </tr>\n",
       "    <tr>\n",
       "      <th>12</th>\n",
       "      <td>Goiás</td>\n",
       "      <td>R$ 1.577,61</td>\n",
       "    </tr>\n",
       "    <tr>\n",
       "      <th>13</th>\n",
       "      <td>São Paulo</td>\n",
       "      <td>R$ 1.573,69</td>\n",
       "    </tr>\n",
       "    <tr>\n",
       "      <th>14</th>\n",
       "      <td>Mato Grosso</td>\n",
       "      <td>R$ 1.572,69</td>\n",
       "    </tr>\n",
       "    <tr>\n",
       "      <th>15</th>\n",
       "      <td>Piauí</td>\n",
       "      <td>R$ 1.571,31</td>\n",
       "    </tr>\n",
       "    <tr>\n",
       "      <th>16</th>\n",
       "      <td>Maranhão</td>\n",
       "      <td>R$ 1.561,76</td>\n",
       "    </tr>\n",
       "    <tr>\n",
       "      <th>17</th>\n",
       "      <td>Ceará</td>\n",
       "      <td>R$ 1.540,98</td>\n",
       "    </tr>\n",
       "    <tr>\n",
       "      <th>18</th>\n",
       "      <td>Minas Gerais</td>\n",
       "      <td>R$ 1.526,71</td>\n",
       "    </tr>\n",
       "    <tr>\n",
       "      <th>19</th>\n",
       "      <td>Rio Grande do Norte</td>\n",
       "      <td>R$ 1.515,60</td>\n",
       "    </tr>\n",
       "    <tr>\n",
       "      <th>20</th>\n",
       "      <td>Paraíba</td>\n",
       "      <td>R$ 1.509,59</td>\n",
       "    </tr>\n",
       "    <tr>\n",
       "      <th>21</th>\n",
       "      <td>Distrito Federal</td>\n",
       "      <td>R$ 1.504,99</td>\n",
       "    </tr>\n",
       "    <tr>\n",
       "      <th>22</th>\n",
       "      <td>Amazonas</td>\n",
       "      <td>R$ 1.486,92</td>\n",
       "    </tr>\n",
       "    <tr>\n",
       "      <th>23</th>\n",
       "      <td>Alagoas</td>\n",
       "      <td>R$ 1.430,82</td>\n",
       "    </tr>\n",
       "    <tr>\n",
       "      <th>24</th>\n",
       "      <td>Roraima</td>\n",
       "      <td>R$ 1.369,10</td>\n",
       "    </tr>\n",
       "    <tr>\n",
       "      <th>25</th>\n",
       "      <td>Rondônia</td>\n",
       "      <td>R$ 1.292,00</td>\n",
       "    </tr>\n",
       "    <tr>\n",
       "      <th>26</th>\n",
       "      <td>Amapá</td>\n",
       "      <td>R$ 966,60</td>\n",
       "    </tr>\n",
       "  </tbody>\n",
       "</table>\n",
       "</div>"
      ],
      "text/plain": [
       "                   Loja Ticket Médio\n",
       "0                  Acre  R$ 2.142,77\n",
       "1               Sergipe  R$ 1.735,33\n",
       "2             Tocantins  R$ 1.734,31\n",
       "3     Rio Grande do Sul  R$ 1.690,04\n",
       "4                  Pará  R$ 1.683,75\n",
       "5        Santa Catarina  R$ 1.683,56\n",
       "6            Pernambuco  R$ 1.683,04\n",
       "7                Paraná  R$ 1.608,73\n",
       "8                 Bahia  R$ 1.606,05\n",
       "9    Mato Grosso do Sul  R$ 1.600,95\n",
       "10       Rio de Janeiro  R$ 1.594,40\n",
       "11       Espírito Santo  R$ 1.580,02\n",
       "12                Goiás  R$ 1.577,61\n",
       "13            São Paulo  R$ 1.573,69\n",
       "14          Mato Grosso  R$ 1.572,69\n",
       "15                Piauí  R$ 1.571,31\n",
       "16             Maranhão  R$ 1.561,76\n",
       "17                Ceará  R$ 1.540,98\n",
       "18         Minas Gerais  R$ 1.526,71\n",
       "19  Rio Grande do Norte  R$ 1.515,60\n",
       "20              Paraíba  R$ 1.509,59\n",
       "21     Distrito Federal  R$ 1.504,99\n",
       "22             Amazonas  R$ 1.486,92\n",
       "23              Alagoas  R$ 1.430,82\n",
       "24              Roraima  R$ 1.369,10\n",
       "25             Rondônia  R$ 1.292,00\n",
       "26                Amapá    R$ 966,60"
      ]
     },
     "metadata": {},
     "output_type": "display_data"
    },
    {
     "data": {
      "text/plain": [
       "'<table class=\"dataframe\">\\n  <thead>\\n    <tr style=\"text-align: center;\">\\n      <th>Produto</th>\\n      <th>Quantidade</th>\\n    </tr>\\n  </thead>\\n  <tbody style=\"text-align:center; color:#484848; background:#F7F7F7\">\\n    <tr>\\n      <td>Impressora</td>\\n      <td>13.285</td>\\n    </tr>\\n    <tr>\\n      <td>Notebook</td>\\n      <td>12.930</td>\\n    </tr>\\n    <tr>\\n      <td>Monitor</td>\\n      <td>9.923</td>\\n    </tr>\\n    <tr>\\n      <td>Nobreak</td>\\n      <td>6.778</td>\\n    </tr>\\n    <tr>\\n      <td>Tablet</td>\\n      <td>6.684</td>\\n    </tr>\\n    <tr>\\n      <td>Teclado</td>\\n      <td>6.631</td>\\n    </tr>\\n    <tr>\\n      <td>Webcam</td>\\n      <td>6.562</td>\\n    </tr>\\n    <tr>\\n      <td>Caixa de som</td>\\n      <td>6.535</td>\\n    </tr>\\n    <tr>\\n      <td>PC</td>\\n      <td>6.518</td>\\n    </tr>\\n    <tr>\\n      <td>Mouse</td>\\n      <td>6.481</td>\\n    </tr>\\n  </tbody>\\n</table>'"
      ]
     },
     "metadata": {},
     "output_type": "display_data"
    }
   ],
   "source": [
    "# Ticket Médio por Loja/Estado\n",
    "\n",
    "tb_ticket_medio_formatado = pd.DataFrame(tb_ticket_medio['Ticket Médio'].apply(lambda x: format_currency(x, 'BRL', locale='pt_BR')))\n",
    "\n",
    "# Usando o reset_index() para tirar a coluna especificada no group by do indice e voltar o indice padrão\n",
    "# Group by (pandas) transforma a coluna especificada como um indice\n",
    "tb_ticket_medio_formatado = tb_ticket_medio_formatado.reset_index()\n",
    "display(tb_ticket_medio_formatado)\n",
    "\n",
    "# Formatação para HTML\n",
    "tb_ticket_medio_formatado_html = tb_ticket_medio_formatado.to_html(index=False, justify='center', border=0).replace('<tbody>', '<tbody style=\"text-align:center; color:#484848; background:#F7F7F7\">')\n",
    "display(tb_qtd_produto_formatado_html)"
   ]
  },
  {
   "cell_type": "code",
   "execution_count": 88,
   "metadata": {},
   "outputs": [
    {
     "name": "stdout",
     "output_type": "stream",
     "text": [
      "Email enviado\n"
     ]
    }
   ],
   "source": [
    "# PASSO 7 - Enviar um e-mail para o setor responsável\n",
    "\n",
    "import smtplib\n",
    "import email.message as em\n",
    "# importando o modulo para não subir para o github\n",
    "from senha import senha_email\n",
    "\n",
    "# Corpo do e-mail\n",
    "# \"\"\" para escrver em várias linhas\n",
    "corpo_email = f\"\"\"\n",
    "<p>Bom dia, prezados!</p>\n",
    "<p>Segue relatório de vendas</p>\n",
    "\n",
    "<!-- Usando o .to_html() do panda para dizer que o valor passado deve ser tratado como um html -->\n",
    "<p>Produtos mais vendidos em quantidade</p>\n",
    "<p><table>{tb_qtd_produto_formatado_html}</></p>\n",
    "\n",
    "<p>Produtos mais vendidos em faturamento</p>\n",
    "<p>{tb_produto_faturamento_formatado_html}</p>\n",
    "\n",
    "<p>Loja que mais vendeu por faturamento</p>\n",
    "<p>{tabela_faturamento_loja_formatada_html}</p>\n",
    "\n",
    "<p>Ticket médio por loja</p>\n",
    "<p>{tb_ticket_medio_formatado_html}</p>\n",
    "\n",
    "<p>Att;</p>\n",
    "<p>Guilherme Henrique</p>\n",
    "\"\"\"\n",
    "\n",
    "msg = em.Message()\n",
    "msg['Subject'] = \"Teste\" # ASSUNTO DO E-MAIL\n",
    "msg['From'] = 'guilhermesilva50239@gmail.com' # E-MAIL QUE VAI ENVIAR O E-MAIL\n",
    "msg['To'] = 'guilhermehotmart99@gmail.com' # E-MAIL QUE VAI RECEBER\n",
    "password = senha_email # SENHA DO E-MAIL QUE VAI ENVIAR\n",
    "msg.add_header('Content-Type', 'text/html') # Tipo / formato do conteúdo\n",
    "msg.set_payload(corpo_email ) # Mensagem / corpo do e-mail\n",
    "\n",
    "# Configurações do servidor\n",
    "s = smtplib.SMTP('smtp.gmail.com: 587')\n",
    "s.starttls()\n",
    "\n",
    "# Credenciais do login\n",
    "s.login(msg['From'], password)\n",
    "s.sendmail(msg['From'], [msg['To']], msg.as_string().encode('utf-8'))\n",
    "print('Email enviado')"
   ]
  }
 ],
 "metadata": {
  "kernelspec": {
   "display_name": "Python 3",
   "language": "python",
   "name": "python3"
  },
  "language_info": {
   "codemirror_mode": {
    "name": "ipython",
    "version": 3
   },
   "file_extension": ".py",
   "mimetype": "text/x-python",
   "name": "python",
   "nbconvert_exporter": "python",
   "pygments_lexer": "ipython3",
   "version": "3.12.0"
  }
 },
 "nbformat": 4,
 "nbformat_minor": 2
}
